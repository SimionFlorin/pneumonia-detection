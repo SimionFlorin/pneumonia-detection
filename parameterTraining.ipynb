{
 "cells": [
  {
   "cell_type": "code",
   "execution_count": null,
   "metadata": {
    "pycharm": {
     "is_executing": false
    }
   },
   "outputs": [],
   "source": [
    "import pickle\n",
    "import random\n",
    "import tarfile\n",
    "import numpy as np\n",
    "import matplotlib.pyplot as plt\n",
    "import os\n",
    "import matplotlib.image as img\n",
    "import cv2\n",
    "import time\n",
    "from tqdm import tqdm\n",
    "import sys\n",
    "import pyprind\n",
    "import pandas as pd\n",
    "\n",
    "from PIL import Image"
   ]
  },
  {
   "cell_type": "code",
   "execution_count": null,
   "metadata": {
    "pycharm": {
     "is_executing": false,
     "name": "#%%\n"
    }
   },
   "outputs": [],
   "source": [
    "\n",
    "def get_all_jpeg_files_paths(path):\n",
    "    returnedFiles = []\n",
    "    print(os.walk(path))\n",
    "    for  r,d, files in os.walk(path):\n",
    "        for file in files:\n",
    "            if '.jpeg' in file:\n",
    "                returnedFiles.append(os.path.join(r,file))\n",
    "    return returnedFiles"
   ]
  },
  {
   "cell_type": "code",
   "execution_count": null,
   "metadata": {
    "pycharm": {
     "is_executing": false,
     "name": "#%%\n"
    }
   },
   "outputs": [],
   "source": [
    "train_normal_data_dir = r\"d:\\machineLearning-dataScience\\chest-xray-pneumonia\\chest_xray\\chest_xray\\train\\NORMAL\"\n",
    "train_normal_data_files = get_all_jpeg_files_paths(train_normal_data_dir) \n"
   ]
  },
  {
   "cell_type": "code",
   "execution_count": null,
   "metadata": {
    "pycharm": {
     "is_executing": false,
     "name": "#%%\n"
    }
   },
   "outputs": [],
   "source": [
    "train_pneumonia_data_dir=r\"d:\\machineLearning-dataScience\\chest-xray-pneumonia\\chest_xray\\chest_xray\\train\\PNEUMONIA\"\n",
    "train_pneumonia_data_files = get_all_jpeg_files_paths(train_pneumonia_data_dir)\n",
    "test_normal_data_dir = r\"d:\\machineLearning-dataScience\\chest-xray-pneumonia\\chest_xray\\chest_xray\\test\\NORMAL\"\n",
    "test_normal_data_files = get_all_jpeg_files_paths(test_normal_data_dir)\n",
    "test_pneumonia_data_dir = r\"d:\\machineLearning-dataScience\\chest-xray-pneumonia\\chest_xray\\chest_xray\\test\\PNEUMONIA\"\n",
    "test_pneumonia_data_files = get_all_jpeg_files_paths(test_pneumonia_data_dir)\n",
    "valid_normal_data_dir = r\"d:\\machineLearning-dataScience\\chest-xray-pneumonia\\chest_xray\\val\\NORMAL\"\n",
    "valid_normal_data_files = get_all_jpeg_files_paths(valid_normal_data_dir)\n",
    "valid_pneumonia_data_dir = r\"d:\\machineLearning-dataScience\\chest-xray-pneumonia\\chest_xray\\val\\PNEUMONIA\"\n",
    "valid_pneumonia_data_files = get_all_jpeg_files_paths(valid_pneumonia_data_dir)"
   ]
  },
  {
   "cell_type": "code",
   "execution_count": null,
   "metadata": {
    "pycharm": {
     "is_executing": false,
     "name": "#%%\n"
    }
   },
   "outputs": [],
   "source": [
    "print(len(train_normal_data_files))\n",
    "print(len(train_pneumonia_data_files))\n",
    "image = img.imread(train_normal_data_files[1])\n",
    "pneumonia_image = img.imread(train_pneumonia_data_files[0])\n",
    "print(image.shape)\n",
    "print(image.shape)\n",
    "\n",
    "plt.imshow(image, cmap=\"binary\")"
   ]
  },
  {
   "cell_type": "code",
   "execution_count": null,
   "metadata": {
    "pycharm": {
     "is_executing": false,
     "name": "#%%\n"
    }
   },
   "outputs": [],
   "source": [
    "def find_median_dimensions_from_files(paths_array):\n",
    "    xAxis = []\n",
    "    yAxis = []\n",
    "\n",
    "    for path in pyprind.prog_percent(paths_array):\n",
    "        image = img.imread(path)\n",
    "        xAxis.append(image.shape[0])\n",
    "        yAxis.append(image.shape[1])\n",
    "    \n",
    "    return np.median(xAxis), np.median(yAxis)\n",
    "\n",
    "xAxisMedian, yAxisMedian = find_median_dimensions_from_files(train_normal_data_files)\n",
    "print(xAxisMedian, yAxisMedian)\n"
   ]
  },
  {
   "cell_type": "code",
   "execution_count": null,
   "metadata": {
    "pycharm": {
     "is_executing": false,
     "name": "#%%\n"
    }
   },
   "outputs": [],
   "source": [
    "SIZE = (int(xAxisMedian), int(yAxisMedian))\n",
    "imageResized = cv2.resize(image, (int(yAxisMedian), int(xAxisMedian)))\n",
    "print(imageResized.shape)\n",
    "print(SIZE[0]/SIZE[1])"
   ]
  },
  {
   "cell_type": "code",
   "execution_count": null,
   "metadata": {
    "pycharm": {
     "is_executing": false,
     "name": "#%%\n"
    }
   },
   "outputs": [],
   "source": [
    "def pooling(matrix, strides, method = 'max'): \n",
    "    m, n = matrix.shape[:2]\n",
    "    strideY, strideX = strides\n",
    "    mY=m//strideY\n",
    "    nX=n//strideX\n",
    "    matrix_pad = matrix[:mY*strideY, :nX*strideX, ...]\n",
    "    print(matrix.shape[2:])\n",
    "    \n",
    "    new_shape=(mY,strideY,nX,strideX)+matrix_pad.shape[2:]\n",
    "    print(n)\n",
    "    if method == 'mean':\n",
    "        result = np.nanmean(matrix_pad.reshape(new_shape),axis=(1,3))\n",
    "    elif method=='max':\n",
    "        result = np.nanmax(matrix_pad.reshape(new_shape), axis=(1,3))\n",
    "    else:\n",
    "        result = np.nanmin(matrix_pad.reshape(new_shape), axis=(1,3))\n",
    "\n",
    "    return result\n",
    "\n",
    "def flatten(matrix):\n",
    "    if len(matrix.shape) == 2:\n",
    "        return matrix.reshape(matrix.shape[0]*matrix.shape[1])\n",
    "    else:\n",
    "        return matrix.reshape(matrix.shape[0]*matrix.shape[1],matrix.shape[2])"
   ]
  },
  {
   "cell_type": "code",
   "execution_count": null,
   "metadata": {
    "pycharm": {
     "is_executing": false,
     "name": "#%%\n"
    }
   },
   "outputs": [],
   "source": [
    "pneumonia_imageResized = cv2.resize(pneumonia_image,(SIZE[1], SIZE[0]))\n",
    "SIZE = (SIZE[0]//10*2,SIZE[1]//10*2)\n",
    "imageResized_2 = cv2.resize(imageResized, (SIZE[1],SIZE[0]))\n",
    "imageResized_maxPooling = pooling(imageResized, (10,10))\n",
    "pneumonia_image=img.imread(train_pneumonia_data_files[0])\n",
    "pneumonia_imageResized_2 = cv2.resize(pneumonia_imageResized, (SIZE[1],SIZE[0]))\n",
    "pneumonia_imageResized_maxPooling = pooling(pneumonia_imageResized, (10,10))\n",
    "plt.matshow(imageResized, cmap=\"binary\")\n",
    "plt.matshow(imageResized_2, cmap=\"binary\")\n",
    "plt.matshow(imageResized_maxPooling, cmap=\"binary\")\n",
    "plt.matshow(pneumonia_imageResized, cmap='binary')\n",
    "plt.matshow(pneumonia_imageResized_2, cmap='binary')\n",
    "plt.matshow(pneumonia_imageResized_maxPooling, cmap='binary')\n",
    "plt.show()\n"
   ]
  },
  {
   "cell_type": "code",
   "execution_count": null,
   "metadata": {
    "pycharm": {
     "is_executing": false,
     "name": "#%%\n"
    }
   },
   "outputs": [],
   "source": [
    "def load_data_from_files(paths_array):\n",
    "    data = np.array([])\n",
    "#     separating in more data-sets improves speed by over 40 time because np.dstack on high numbers is very slow\n",
    "    data_sets = [np.array([])]\n",
    "    current_set = 0\n",
    "    for path in pyprind.prog_percent(paths_array):\n",
    "        currentImage = img.imread(path)\n",
    "        currentImageResized = cv2.resize(currentImage, (SIZE[1],SIZE[0]))\n",
    "        if len(currentImageResized.shape) == 3:\n",
    "            currentImageResized = currentImageResized[:,:,0]\n",
    "        if data_sets[current_set].shape[0] != currentImageResized.shape[0]:\n",
    "            data_sets[current_set] = currentImageResized\n",
    "            data_sets[current_set] = data_sets[current_set].reshape(data_sets[current_set].shape[0],data_sets[current_set].shape[1],1)\n",
    "        else:\n",
    "            data_sets[current_set] = np.dstack((data_sets[current_set],currentImageResized))\n",
    "        if data_sets[current_set].shape[2]>50:\n",
    "            data_sets.append(np.array([]))\n",
    "            current_set=current_set+1\n",
    "    \n",
    "    for data_set in pyprind.prog_percent(data_sets):\n",
    "        if data.shape[0] != data_set.shape[0]:\n",
    "            data = data_set\n",
    "        else:\n",
    "            data = np.dstack((data,data_set))\n",
    "    \n",
    "    return data\n",
    "\n",
    "normal_train_data = load_data_from_files(train_normal_data_files)\n",
    "print(normal_train_data.shape)\n",
    "print(len(train_normal_data_files))\n",
    "pneumonia_train_data = load_data_from_files(train_pneumonia_data_files)\n",
    "print(pneumonia_train_data.shape)\n",
    "print(len(train_pneumonia_data_files))\n"
   ]
  },
  {
   "cell_type": "code",
   "execution_count": null,
   "metadata": {
    "pycharm": {
     "is_executing": false,
     "name": "#%%\n"
    }
   },
   "outputs": [],
   "source": [
    "\n",
    "print(normal_train_data.shape)\n",
    "print(pneumonia_train_data.shape)\n",
    "print(SIZE)\n",
    "all_train_data = np.dstack((normal_train_data,pneumonia_train_data))\n",
    "print(all_train_data.shape)\n",
    "# all_train_data = flatten(all_train_data)\n",
    "print(all_train_data.shape)\n"
   ]
  },
  {
   "cell_type": "code",
   "execution_count": null,
   "metadata": {
    "pycharm": {
     "is_executing": false,
     "name": "#%%\n"
    }
   },
   "outputs": [],
   "source": [
    "def transform_into_list_with_results(data,dataType):\n",
    "    normal_data_length = None\n",
    "    if dataType == 'train':\n",
    "        normal_data_length = len(train_normal_data_files)\n",
    "    if dataType == 'test':\n",
    "        normal_data_length = len(test_normal_data_files)\n",
    "    if dataType == 'valid':\n",
    "        normal_data_length = len(valid_normal_data_files)\n",
    "    print(normal_data_length)\n",
    "    \n",
    "    train_data_with_results = list() \n",
    "    for  i in pyprind.prog_percent(range(len(data[0]))): \n",
    "        if i < normal_data_length:\n",
    "            train_data_with_results.append((data[:,i], 0))\n",
    "        else:\n",
    "            train_data_with_results.append((data[:,i], 1)) \n",
    "    return train_data_with_results\n",
    "# train_data_with_results =  transform_into_list_with_results(all_train_data,'train') \n"
   ]
  },
  {
   "cell_type": "code",
   "execution_count": null,
   "metadata": {
    "pycharm": {
     "is_executing": false,
     "name": "#%%\n"
    }
   },
   "outputs": [],
   "source": [
    "\n",
    "# print(train_data_with_results[0][0].shape)\n",
    "test_normal_data = load_data_from_files(test_normal_data_files)\n",
    "test_pneumonia_data = load_data_from_files(test_pneumonia_data_files)\n",
    "all_test_data = np.dstack((test_normal_data,test_pneumonia_data))\n",
    "# all_test_data = flatten(all_test_data)\n",
    "# test_data = transform_into_list_with_results(all_test_data,'test')  \n",
    "print(all_test_data.shape)\n"
   ]
  },
  {
   "cell_type": "code",
   "execution_count": null,
   "metadata": {
    "pycharm": {
     "is_executing": false
    }
   },
   "outputs": [],
   "source": [
    "# print(len(train_data_with_results))"
   ]
  },
  {
   "cell_type": "code",
   "execution_count": null,
   "metadata": {
    "pycharm": {
     "is_executing": false
    }
   },
   "outputs": [],
   "source": [
    "valid_normal_data = load_data_from_files(valid_normal_data_files)\n",
    "valid_pneumonia_data = load_data_from_files(valid_pneumonia_data_files)\n",
    "all_valid_data = np.dstack((valid_normal_data,valid_pneumonia_data))\n",
    "# all_valid_data = flatten(all_valid_data)\n",
    "# validation_data = transform_into_list_with_results(all_valid_data,'valid')  \n",
    "print(all_valid_data.shape)\n",
    "# print(len(validation_data))"
   ]
  },
  {
   "cell_type": "code",
   "execution_count": null,
   "metadata": {},
   "outputs": [],
   "source": [
    "from __future__ import  absolute_import, division, print_function, unicode_literals\n",
    "\n",
    "import tensorflow as tf\n",
    "from tensorflow import keras"
   ]
  },
  {
   "cell_type": "code",
   "execution_count": null,
   "metadata": {},
   "outputs": [],
   "source": [
    "def return_labels(data,dataType):\n",
    "    normal_data_length = None\n",
    "    if dataType == 'train':\n",
    "        normal_data_length = len(train_normal_data_files)\n",
    "    if dataType == 'test':\n",
    "        normal_data_length = len(test_normal_data_files)\n",
    "    if dataType == 'valid':\n",
    "        normal_data_length = len(valid_normal_data_files)\n",
    "    print(normal_data_length)\n",
    "    \n",
    "    pneumonia_data_length = (data.shape[0]-normal_data_length )\n",
    "    print(pneumonia_data_length)\n",
    "    results = np.concatenate((np.zeros(normal_data_length),np.ones(pneumonia_data_length)),0)\n",
    "    print(results.shape)\n",
    "    return results\n",
    "\n",
    "# train_labels = return_labels(all_train_data,'train')\n",
    "# all_train_data = np.swapaxes(all_train_data,2,0)\n",
    "print(all_train_data.shape+(1,))\n",
    "# all_train_data = np.reshape(all_train_data,(all_train_data.shape+(1,)))\n",
    "print(all_train_data.shape)\n",
    "test_labels = return_labels(all_test_data,'test')\n",
    "valid_labels = return_labels(all_valid_data,'valid')\n",
    "# all_valid_data = np.swapaxes(all_valid_data,2,0)\n",
    "print(all_valid_data.shape)\n",
    "# all_test_data = np.swapaxes(all_test_data,2,0)\n",
    "# all_test_data = np.reshape(all_test_data,(all_test_data.shape+(1,)))\n",
    "print(all_test_data.shape)\n",
    "normal_train_data = None \n",
    "pneumonia_train_data = None\n",
    "test_normal_data = None \n",
    "test_pneumonia_data = None"
   ]
  },
  {
   "cell_type": "code",
   "execution_count": 182,
   "metadata": {},
   "outputs": [],
   "source": [
    "from tensorflow.keras.models import Sequential\n",
    "from tensorflow.keras.layers import Dense, Conv2D, Flatten, Dropout, MaxPooling2D\n",
    "\n",
    "model=Sequential([\n",
    "#     keras.layers.Flatten(input_shape=SIZE),\n",
    "         keras.layers.Conv2D(8, (3,1), padding='same', activation='relu', input_shape=(328,264,1)),\n",
    "     keras.layers.MaxPooling2D(),\n",
    "    keras.layers.Conv2D(8,(3,1), activation='relu'),\n",
    "    keras.layers.MaxPooling2D(),\n",
    "    keras.layers.Conv2D(16,(3,1), activation='relu'),\n",
    "    keras.layers.MaxPooling2D(),\n",
    "    Dropout(0.2),\n",
    "    keras.layers.Flatten(),\n",
    "    keras.layers.Dense(1353, activation = 'relu'),\n",
    "    keras.layers.Dense(64, activation = 'relu'),\n",
    "    keras.layers.Dense(1, activation = 'sigmoid')\n",
    "])\n",
    "\n",
    "\n",
    "\n"
   ]
  },
  {
   "cell_type": "code",
   "execution_count": 188,
   "metadata": {},
   "outputs": [
    {
     "name": "stdout",
     "output_type": "stream",
     "text": [
      "Model: \"sequential_47\"\n",
      "_________________________________________________________________\n",
      "Layer (type)                 Output Shape              Param #   \n",
      "=================================================================\n",
      "conv2d_80 (Conv2D)           (None, 328, 264, 8)       32        \n",
      "_________________________________________________________________\n",
      "max_pooling2d_80 (MaxPooling (None, 164, 132, 8)       0         \n",
      "_________________________________________________________________\n",
      "conv2d_81 (Conv2D)           (None, 162, 132, 8)       200       \n",
      "_________________________________________________________________\n",
      "max_pooling2d_81 (MaxPooling (None, 81, 66, 8)         0         \n",
      "_________________________________________________________________\n",
      "conv2d_82 (Conv2D)           (None, 79, 66, 16)        400       \n",
      "_________________________________________________________________\n",
      "max_pooling2d_82 (MaxPooling (None, 39, 33, 16)        0         \n",
      "_________________________________________________________________\n",
      "dropout (Dropout)            (None, 39, 33, 16)        0         \n",
      "_________________________________________________________________\n",
      "flatten_39 (Flatten)         (None, 20592)             0         \n",
      "_________________________________________________________________\n",
      "dense_142 (Dense)            (None, 1353)              27862329  \n",
      "_________________________________________________________________\n",
      "dense_143 (Dense)            (None, 64)                86656     \n",
      "_________________________________________________________________\n",
      "dense_144 (Dense)            (None, 1)                 65        \n",
      "=================================================================\n",
      "Total params: 27,949,682\n",
      "Trainable params: 27,949,682\n",
      "Non-trainable params: 0\n",
      "_________________________________________________________________\n"
     ]
    }
   ],
   "source": [
    "model.compile(optimizer='adam',\n",
    "              loss='binary_crossentropy',\n",
    "              metrics=['accuracy','Recall'])\n",
    "\n",
    "model.summary()"
   ]
  },
  {
   "cell_type": "code",
   "execution_count": 189,
   "metadata": {},
   "outputs": [
    {
     "name": "stdout",
     "output_type": "stream",
     "text": [
      "Train on 2700 samples, validate on 624 samples\n",
      "Epoch 1/5\n",
      "2700/2700 [==============================] - 116s 43ms/sample - loss: 17.3184 - accuracy: 0.6041 - Recall: 0.6269 - val_loss: 2.6560 - val_accuracy: 0.7051 - val_Recall: 0.9795\n",
      "Epoch 2/5\n",
      "2700/2700 [==============================] - 107s 40ms/sample - loss: 0.6778 - accuracy: 0.8893 - Recall: 0.8675 - val_loss: 1.0848 - val_accuracy: 0.8462 - val_Recall: 0.9051\n",
      "Epoch 3/5\n",
      "2700/2700 [==============================] - 98s 36ms/sample - loss: 0.2925 - accuracy: 0.9393 - Recall: 0.9397 - val_loss: 1.6246 - val_accuracy: 0.7692 - val_Recall: 0.9795\n",
      "Epoch 4/5\n",
      "2700/2700 [==============================] - 105s 39ms/sample - loss: 0.1077 - accuracy: 0.9652 - Recall: 0.9706 - val_loss: 0.8901 - val_accuracy: 0.8285 - val_Recall: 0.9667\n",
      "Epoch 5/5\n",
      "2700/2700 [==============================] - 107s 40ms/sample - loss: 0.0589 - accuracy: 0.9807 - Recall: 0.9794 - val_loss: 0.9586 - val_accuracy: 0.8125 - val_Recall: 0.9769\n"
     ]
    }
   ],
   "source": [
    "history = model.fit(\n",
    "    np.float32(all_train_data[:2700]),\n",
    "    train_labels[:2700],\n",
    "    steps_per_epoch=20,\n",
    "    epochs=5,\n",
    "    validation_data=(all_test_data,test_labels),\n",
    "    shuffle = True,\n",
    "#     validation_steps=10\n",
    ")"
   ]
  },
  {
   "cell_type": "code",
   "execution_count": 226,
   "metadata": {},
   "outputs": [
    {
     "name": "stdout",
     "output_type": "stream",
     "text": [
      "INFO:tensorflow:Assets written to: firstSave.model\\assets\n"
     ]
    }
   ],
   "source": [
    "model.save('firstSave.model')"
   ]
  },
  {
   "cell_type": "code",
   "execution_count": 199,
   "metadata": {},
   "outputs": [
    {
     "name": "stdout",
     "output_type": "stream",
     "text": [
      "dict_keys(['loss', 'accuracy', 'Recall', 'val_loss', 'val_accuracy', 'val_Recall'])\n",
      "[0.7051282, 0.84615386, 0.7692308, 0.82852566, 0.8125]\n"
     ]
    },
    {
     "data": {
      "image/png": "[encoded data removed]",
      "text/plain": [
       "<Figure size 576x576 with 2 Axes>"
      ]
     },
     "metadata": {
      "needs_background": "light"
     },
     "output_type": "display_data"
    }
   ],
   "source": [
    "# model = tf.keras.models.load_model('firstSave.model')\n",
    "# model.evaluate(all_valid_data)\n",
    "# print(np.reshape(all_valid_data,(16,328,264)).shape)\n",
    "# model.evaluate(all_test_data,test_labels)\n",
    "acc = history.history['accuracy']\n",
    "val_acc = history.history['val_accuracy']\n",
    "print(history.history.keys())\n",
    "print(val_acc)\n",
    "\n",
    "\n",
    "Recall = history.history['Recall']\n",
    "val_Recall = history.history['val_Recall']\n",
    "\n",
    "epochs_range = range(4)\n",
    "\n",
    "plt.figure(figsize=(8, 8))\n",
    "plt.subplot(1, 2, 1)\n",
    "plt.plot(epochs_range, acc[:4], label='Training Accuracy')\n",
    "plt.plot(epochs_range, val_acc[:4], label='Validation Accuracy')\n",
    "plt.legend(loc='lower right')\n",
    "plt.title('Training and Validation Accuracy')\n",
    "\n",
    "plt.subplot(1, 2, 2)\n",
    "plt.plot(epochs_range, Recall[:4], label='Training Reccall')\n",
    "# plt.plot(epochs_range, val_Recall[:4], label='Validation Recall')\n",
    "plt.legend(loc='upper right')\n",
    "plt.title('Training and Validation Loss')\n",
    "plt.show()"
   ]
  },
  {
   "cell_type": "code",
   "execution_count": null,
   "metadata": {},
   "outputs": [],
   "source": [
    "model.load('firstSave.model')"
   ]
  },
  {
   "cell_type": "code",
   "execution_count": null,
   "metadata": {},
   "outputs": [],
   "source": []
  }
 ],
 "metadata": {
  "kernelspec": {
   "display_name": "Python 3",
   "language": "python",
   "name": "python3"
  },
  "language_info": {
   "codemirror_mode": {
    "name": "ipython",
    "version": 3
   },
   "file_extension": ".py",
   "mimetype": "text/x-python",
   "name": "python",
   "nbconvert_exporter": "python",
   "pygments_lexer": "ipython3",
   "version": "3.7.4"
  },
  "pycharm": {
   "stem_cell": {
    "cell_type": "raw",
    "source": [],
    "metadata": {
     "collapsed": false
    }
   }
  }
 },
 "nbformat": 4,
 "nbformat_minor": 1
}